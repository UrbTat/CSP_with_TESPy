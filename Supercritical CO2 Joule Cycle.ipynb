{
 "cells": [
  {
   "cell_type": "markdown",
   "id": "e9dff5c1e53eca6d",
   "metadata": {},
   "source": [
    "# Modeling of Supercritical CO2 Joule Cycle"
   ]
  },
  {
   "cell_type": "markdown",
   "id": "e9e095cce7b280f7",
   "metadata": {},
   "source": [
    "## Introduction\n",
    "\n",
    "In recent years, the search for efficient and sustainable energy solutions has led to significant advances in power generation technologies. Among these innovations, the Supercritical CO2 Joule Cycle stands out as a promising candidate for improving the efficiency and economics of thermal power plants, particularly in the context of renewable energy integration.\n",
    "\n",
    "This report analyzes an advanced model of the Supercritical CO2 Joule Cycle, adopting the operational boundaries of the Andasol 2 solar thermal power plant. The Supercritical CO2 Joule Cycle was modeled using TESPy software, configured with two compressors, heat recuperators, a water cooler, a heater, and a turbine. These components were interconnected to optimize the flow of energy through the cycle.\n",
    "\n",
    "In addition, this analysis goes beyond mere simulation and explores potential adaptations of the supercritical CO2 Joule cycle specifically tailored for tower CSP plants. Tower CSP plants represent a significant advancement in solar thermal technology, offering increased operational flexibility and potential for higher efficiencies. By addressing the unique operational limitations of CSP applications, this study aims to propose optimisations that can further enhance the performance of the cycle in solar driven power generation scenarios.\n"
   ]
  },
  {
   "cell_type": "markdown",
   "id": "0a7517b6-841c-41f7-95ed-0313bcfdafe4",
   "metadata": {},
   "source": [
    "# Sunshot Targets\n",
    "\n",
    "CSP (Concentrated Solar Power) technologies use mirrors to reflect and concentrate sunlight onto receivers that collect solar energy and convert it into heat. This heat is then used to produce electricity through a turbine or another type of heat engine that drives a generator. CSP systems are generally classified based on how they collect solar energy, including linear Fresnel systems, central receiver (power tower) systems, parabolic dish systems, and parabolic trough systems. Most CSP systems installed to date consist of parabolic troughs, although power tower systems are increasingly being deployed commercially. The dispatchability of CSP results in energy production during periods of highest demand, offsetting the most costly (and often highest emissions) fossil generators. Additionally, CSP can ramp up quickly, providing various ancillary services such as regulation and spinning reserves.\n",
    "\n",
    "To reach the U.S. Department of Energy's (DOE) SunShot Initiative cost target of 6 ¢/kWh, cost and performance improvements in all subsystems within a CSP plant are necessary. A key driver for improving performance is through efficiency gains achieved by integrating CSP solar fields with advanced power cycles, with the supercritical CO2 (sCO2) Brayton power cycle being a leading candidate for CSP applications. To achieve the desired efficiency of 50%, necessary to meet the SunShot target, these sCO2 systems are expected to operate at temperatures as high as 750°C.\n",
    "\n",
    "Power tower CSP plants can achieve higher operating temperatures compared to line-focus systems such as parabolic trough and linear Fresnel plants. Currently, the two main power tower technology concepts pursued by developers are defined by the type of heat-transfer fluid (HTF) in the receiver: steam or molten salt. In direct-steam power towers, heliostats reflect sunlight onto a steam receiver located at the top of a tower, similar to a boiler in a conventional coal-fired Rankine-cycle power plant. The steam is then fed into a turbine/generator to generate electricity. In molten-salt power towers, the salt is heated from 290°C to about 565°C by concentrated sunlight and used to generate high-pressure steam.\n",
    "\n",
    "Supercritical CO2 (sCO2) Brayton-cycle energy conversion systems transform heat energy into electrical energy using sCO2 rather than steam in the Rankine cycle systems commonly used in today's CSP, coal, nuclear, and combined-cycle gas plants. Studies indicate that the closed-loop sCO2 cycle offers higher cycle efficiency versus superheated or supercritical steam cycles at temperatures relevant for CSP applications. Brayton-cycle systems using sCO2 are more compact, have lower thermal mass, and simpler power blocks compared to Rankine cycles. Cycle configurations such as partial-cooling cycle and recompression with main compression intercooling, along with reheat, appear capable of reaching the SunShot target of 50% efficiency, even with dry cooling. However, these high temperatures require alternative HTFs to today's molten nitrate salts, which are limited to temperatures below 600°C, with potential technology pathways including particle, advanced molten-salt, and gas-phase HTFs. [Concentrating Solar Power Gen3 Demonstration Roadmap](https://www.nrel.gov/docs/fy17osti/67464.pdf)"
   ]
  },
  {
   "cell_type": "markdown",
   "id": "80f16d16f08cace6",
   "metadata": {},
   "source": [
    "## Supercritical CO2 Joule Cycle code construction\n",
    "\n",
    "The creation and development of the code for the power plant simulation is performed in a very similar manner to that performed for Andasol 2. In the following sections, only the major differences and the various assumptions adopted will be analysed. The cycle consists of several key components:\n",
    "- **Compressors (CP1 and CP2)**: These components compress the CO2 to higher pressures, crucial for maintaining cycle efficiency.\n",
    "- **Heat Exchangers (Recuperators)**: Recuperators facilitate heat exchange between exhaust streams, optimizing thermal efficiency.\n",
    "- **Turbine**: The turbine expands CO2 to generate mechanical power, which is then converted into electrical energy.\n",
    "- **Heat Exchangers (Heater and Cooler)**: These components facilitate heat transfer to and from external sources, crucial for maintaining working fluid temperatures within operational limits."
   ]
  },
  {
   "cell_type": "markdown",
   "id": "4a20e614-d606-4adc-9245-73ee8eab6e88",
   "metadata": {},
   "source": [
    "![Representation of the cycle under examination](picture/CO2.svg)"
   ]
  },
  {
   "cell_type": "markdown",
   "id": "acc7e2cc-5471-4f55-989d-20be59735662",
   "metadata": {},
   "source": [
    "### Network Cycle topology creation\n",
    "\n",
    "As done in Andasol, the relevent Libraries are imported. Then, the Network is created with a CO2 fluid."
   ]
  },
  {
   "cell_type": "code",
   "execution_count": 1,
   "id": "b472b78c933e4e42",
   "metadata": {
    "ExecuteTime": {
     "end_time": "2024-07-21T18:01:40.056073Z",
     "start_time": "2024-07-21T18:01:39.884217Z"
    }
   },
   "outputs": [],
   "source": [
    "from tespy.networks import Network\n",
    "from tespy.components import (\n",
    "    Sink, Source, Turbine, SimpleHeatExchanger, Merge, Splitter,\n",
    "    HeatExchanger, CycleCloser, Compressor)\n",
    "from tespy.connections import Connection, Bus"
   ]
  },
  {
   "cell_type": "code",
   "execution_count": 2,
   "id": "4344214a740d60c6",
   "metadata": {
    "ExecuteTime": {
     "end_time": "2024-07-21T18:01:40.071715Z",
     "start_time": "2024-07-21T18:01:40.057058Z"
    }
   },
   "outputs": [],
   "source": [
    "# setting up network\n",
    "jouleCycle = Network(fluids=['CO2'])\n",
    "jouleCycle.set_attr(\n",
    "    T_unit='C', p_unit='bar', h_unit='kJ / kg', m_unit='kg / s',\n",
    "    s_unit=\"kJ / kgK\")"
   ]
  },
  {
   "cell_type": "markdown",
   "id": "ab8eb6e4-1216-4845-8c66-71ea279cfeae",
   "metadata": {},
   "source": [
    "\n",
    "The needed components are defined for the thermal cycle according to the TESPy library. Each component is now explained:\n",
    "\n",
    "- **Source and Sink**: `water_in` represents the water source in the cycle and `water_out` represents the water sink in the cycle.\n",
    "\n",
    "- **CycleCloser**: `closer` is the component that closes the cycle, ensuring mass balance between inlet and outlet.\n",
    "\n",
    "- **Compressor**: `cp1` and `cp2` are the two compressors in the cycle (Compressor 1 and Compressor 2), both belonging to the functional group 'CMP'.\n",
    "\n",
    "- **HeatExchanger**: `rec1` and `rec2`are the two heat exchangers in the cycle (Recuperator 1 and Recuperator 2), both belonging to the functional group 'REC'.\n",
    "\n",
    "- **SimpleHeatExchanger**: `cooler` as a simple heat exchanger for cooling water and `heater` as a simple heat exchanger for heating the fluid in the cycle.\n",
    "\n",
    "- **Turbine**: `turb` is the turbine in the cycle, which converts fluid energy into mechanical energy.\n",
    "\n",
    "- **Splitter and Merge**: `sp1` is the splitter in the cycle, part of the functional group 'REC' and `m1` is the merge in the cycle, part of the functional group 'REC'.\n"
   ]
  },
  {
   "cell_type": "code",
   "execution_count": 3,
   "id": "f03d259ca9863fd2",
   "metadata": {
    "ExecuteTime": {
     "end_time": "2024-07-21T18:01:40.087399Z",
     "start_time": "2024-07-21T18:01:40.072712Z"
    }
   },
   "outputs": [],
   "source": [
    "# components definition\n",
    "water_in = Source('Water source')\n",
    "water_out = Sink('Water sink')\n",
    "\n",
    "closer = CycleCloser('Cycle closer')\n",
    "\n",
    "cp1 = Compressor('Compressor 1', fkt_group='CMP')\n",
    "cp2 = Compressor('Compressor 2', fkt_group='CMP')\n",
    "\n",
    "rec1 = HeatExchanger('Recuperator 1', fkt_group='REC')\n",
    "rec2 = HeatExchanger('Recuperator 2', fkt_group='REC')\n",
    "\n",
    "cooler = SimpleHeatExchanger('Water cooler')\n",
    "heater = SimpleHeatExchanger('Heater')\n",
    "\n",
    "turb = Turbine('Turbine')\n",
    "\n",
    "sp1 = Splitter('Splitter 1', fkt_group='REC')\n",
    "m1 = Merge('Merge 1', fkt_group='REC')"
   ]
  },
  {
   "cell_type": "markdown",
   "id": "fbb340458c8f30ef",
   "metadata": {},
   "source": [
    "Each connection is defined by specifying the components and their respective ports that are being connected. The connections are then added to the cycle network.\n",
    "\n",
    "- `c1` connects the outlet of the water cooler (`cooler`) to the inlet of Compressor 1 (`cp1`).\n",
    "- `c2` connects the outlet of Compressor 1 (`cp1`) to the inlet of Recuperator 1 (`rec1`).\n",
    "- `c3` connects the outlet of Recuperator 2 (`rec2`) to the inlet of the heater (`heater`).\n",
    "- `c0` connects the outlet of the heater (`heater`) to the inlet of the cycle closer (`closer`).\n",
    "- `c4` connects the outlet of the cycle closer (`closer`) to the inlet of the turbine (`turb`).\n",
    "- `c5` connects the outlet of the turbine (`turb`) to the inlet of Recuperator 2 (`rec2`).\n",
    "- `c6` connects the outlet of Splitter 1 (`sp1`) to the inlet of the water cooler (`cooler`).\n",
    "- `c10` connects the outlet of Splitter 1 (`sp1`) to the inlet of Compressor 2 (`cp2`).\n",
    "- `c11` connects the outlet of Compressor 2 (`cp2`) to the inlet of Merge 1 (`m1`).\n",
    "- `c12` connects the outlet of Recuperator 1 (`rec1`) to the inlet of Merge 1 (`m1`).\n",
    "- `c13` connects the outlet of Merge 1 (`m1`) to the inlet of Recuperator 2 (`rec2`).\n",
    "- `c14` connects the outlet of Recuperator 2 (`rec2`) to the inlet of Recuperator 1 (`rec1`).\n",
    "- `c15` connects the outlet of Recuperator 1 (`rec1`) to the inlet of Splitter 1 (`sp1`)."
   ]
  },
  {
   "cell_type": "code",
   "execution_count": 4,
   "id": "3e2cf2a1251e1538",
   "metadata": {
    "ExecuteTime": {
     "end_time": "2024-07-21T18:01:40.118240Z",
     "start_time": "2024-07-21T18:01:40.089394Z"
    }
   },
   "outputs": [],
   "source": [
    "# connections definition\n",
    "# power cycle\n",
    "c1 = Connection(cooler, 'out1', cp1, 'in1', label='1')\n",
    "c2 = Connection(cp1, 'out1', rec1, 'in2', label='2')\n",
    "c3 = Connection(rec2, 'out2', heater, 'in1', label='3')\n",
    "\n",
    "c0 = Connection(heater, 'out1', closer, 'in1', label='0')\n",
    "c4 = Connection(closer, 'out1', turb, 'in1', label='4')\n",
    "c5 = Connection(turb, 'out1', rec2, 'in1', label='5')\n",
    "c6 = Connection(sp1, 'out1', cooler, 'in1', label='6')\n",
    "\n",
    "c10 = Connection(sp1, 'out2', cp2, 'in1', label='10')\n",
    "c11 = Connection(cp2, 'out1', m1, 'in2', label='11')\n",
    "c12 = Connection(rec1, 'out2', m1, 'in1', label='12')\n",
    "c13 = Connection(m1, 'out1', rec2, 'in2', label='13')\n",
    "\n",
    "c14 = Connection(rec2, 'out1', rec1, 'in1', label='14')\n",
    "c15 = Connection(rec1, 'out1', sp1, 'in1', label='15')\n",
    "\n",
    "# add connections to network\n",
    "jouleCycle.add_conns(c0, c1, c2, c3, c4, c5, c6, c10, c11, c12, c13, c14, c15)"
   ]
  },
  {
   "cell_type": "markdown",
   "id": "3c2ff20866cc6a5e",
   "metadata": {},
   "source": [
    "Setting the power bus and heat input bus, specifying mechanical and electrical generator efficiencies."
   ]
  },
  {
   "cell_type": "code",
   "execution_count": 5,
   "id": "d1408525e69760bd",
   "metadata": {
    "ExecuteTime": {
     "end_time": "2024-07-21T18:01:40.133351Z",
     "start_time": "2024-07-21T18:01:40.120329Z"
    }
   },
   "outputs": [],
   "source": [
    "# power bus\n",
    "power = Bus('total output power')\n",
    "power.add_comps({'comp': turb, 'char': 0.99 * 0.99, 'base': 'component'},\n",
    "                {'comp': cp1, 'char': 0.98 * 0.97, 'base': 'bus'},\n",
    "                {'comp': cp2, 'char': 0.98 * 0.97, 'base': 'bus'})\n",
    "\n",
    "heat_input_bus = Bus('heat input')\n",
    "heat_input_bus.add_comps({'comp': heater, 'base': 'bus'})\n",
    "\n",
    "jouleCycle.add_busses(heat_input_bus, power)"
   ]
  },
  {
   "cell_type": "markdown",
   "id": "d1995e71-4816-4c67-b440-2cf9aff87065",
   "metadata": {},
   "source": [
    "### Input values setting"
   ]
  },
  {
   "cell_type": "markdown",
   "id": "4d3e48e7f70c80ac",
   "metadata": {},
   "source": [
    "Setting the attributes for the connections and the components. These parameters include temperatures, pressures, mass flow rates, and efficiencies. It was created in such a way as to ensure stable operation over different TIT ranges by parametrically adopting the pressure losses and temperature differences at the heat exchangers. All data are referred to [Exergoeconomic analyses of different sCO2 cycle configurations](https://sco2symposium.com/papers2018/cycles/052_Paper.pdf).\n",
    "\n",
    "- `c1` is set with a temperature (`T`) of 35°C, a pressure (`p`) of 75 bar, and a fluid composition of 100% CO2.\n",
    "- `c4` is set with a temperature (`T`) of 384°C, a pressure (`p`) of 258 bar, and a mass flow rate (`m`) of 54 kg/s.\n",
    "- `c5` is set with a pressure (`p`) of 78 bar.\n",
    "- `rec1` (Recuperator 1) is set with a pressure ratio (`pr1` and `pr2`) of 0.977 and 0.998 respectively, a lower terminal temperature difference (`ttd_l`) of 10°C, and an upper terminal temperature difference (`ttd_u`) of 25°C.\n",
    "- `rec2` (Recuperator 2) is set with a pressure ratio (`pr1` and `pr2`) oof 0.987 and 0.997 respectively and a lower terminal temperature difference (`ttd_l`) of 10°C.\n",
    "- `heater` is set with a pressure ratio (`pr`) of 0.973.\n",
    "\n",
    "And for the component parameters:\n",
    "\n",
    "- `turb` (Turbine) is set with an isentropic efficiency (`eta_s`) of 0.90.\n",
    "- `cp1` (Compressor 1) is set with an isentropic efficiency (`eta_s`) of 0.85.\n",
    "- `cp2` (Compressor 2) is set with an isentropic efficiency (`eta_s`) of 0.85.\n"
   ]
  },
  {
   "cell_type": "code",
   "execution_count": 6,
   "id": "dee67509f828322d",
   "metadata": {
    "ExecuteTime": {
     "end_time": "2024-07-21T18:01:40.148541Z",
     "start_time": "2024-07-21T18:01:40.134351Z"
    }
   },
   "outputs": [],
   "source": [
    "# connection parameters\n",
    "c1.set_attr(T=35, p=75, fluid={'CO2': 1})\n",
    "c4.set_attr(T=384, p=258, m=54)\n",
    "c5.set_attr(p=78)\n",
    "rec1.set_attr(pr1=0.977, pr2=0.998, ttd_l=10, ttd_u=25)\n",
    "rec2.set_attr(pr1=0.987, pr2=0.997, ttd_l=10)\n",
    "heater.set_attr(pr=0.973)\n",
    "\n",
    "# component parameters\n",
    "turb.set_attr(eta_s=0.9)\n",
    "cp1.set_attr(eta_s=0.85)\n",
    "cp2.set_attr(eta_s=0.85)"
   ]
  },
  {
   "cell_type": "markdown",
   "id": "efc996c17615cbab",
   "metadata": {},
   "source": [
    "### Results output\n",
    "Solving command launched with simulation results printing without informations regarding iteration results:"
   ]
  },
  {
   "cell_type": "code",
   "execution_count": 7,
   "id": "86e4b713ad8648be",
   "metadata": {
    "ExecuteTime": {
     "end_time": "2024-07-21T18:01:40.787653Z",
     "start_time": "2024-07-21T18:01:40.151543Z"
    }
   },
   "outputs": [
    {
     "name": "stdout",
     "output_type": "stream",
     "text": [
      "\n",
      "##### RESULTS (Turbine) #####\n",
      "+---------+-----------+----------+----------+\n",
      "|         |         P |    eta_s |       pr |\n",
      "|---------+-----------+----------+----------|\n",
      "| Turbine | -6.29e+06 | \u001b[94m9.00e-01\u001b[0m | 3.02e-01 |\n",
      "+---------+-----------+----------+----------+\n",
      "##### RESULTS (Compressor) #####\n",
      "+--------------+----------+----------+----------+--------+\n",
      "|              |        P |    eta_s |       pr |   igva |\n",
      "|--------------+----------+----------+----------+--------|\n",
      "| Compressor 1 | 2.47e+06 | \u001b[94m8.50e-01\u001b[0m | 3.55e+00 |    nan |\n",
      "| Compressor 2 | 1.02e+06 | \u001b[94m8.50e-01\u001b[0m | 3.54e+00 |    nan |\n",
      "+--------------+----------+----------+----------+--------+\n",
      "##### RESULTS (CycleCloser) #####\n",
      "+--------------+------------------+-------------------+\n",
      "|              |   mass_deviation |   fluid_deviation |\n",
      "|--------------+------------------+-------------------|\n",
      "| Cycle closer |         0.00e+00 |          0.00e+00 |\n",
      "+--------------+------------------+-------------------+\n",
      "##### RESULTS (SimpleHeatExchanger) #####\n",
      "+--------------+-----------+----------+----------+-----+-----+------+---------+------+--------+\n",
      "|              |         Q |       pr |     zeta |   D |   L |   ks |   ks_HW |   kA |   Tamb |\n",
      "|--------------+-----------+----------+----------+-----+-----+------+---------+------+--------|\n",
      "| Heater       |  1.05e+07 | \u001b[94m9.73e-01\u001b[0m | 7.44e+04 | nan | nan |  nan |     nan |  nan |    nan |\n",
      "| Water cooler | -7.70e+06 | 9.97e-01 | 2.04e+03 | nan | nan |  nan |     nan |  nan |    nan |\n",
      "+--------------+-----------+----------+----------+-----+-----+------+---------+------+--------+\n",
      "##### RESULTS (HeatExchanger) #####\n",
      "+---------------+-----------+----------+----------+----------+----------+----------+----------+----------+----------+\n",
      "|               |         Q |       kA |   td_log |    ttd_u |    ttd_l |      pr1 |      pr2 |    zeta1 |    zeta2 |\n",
      "|---------------+-----------+----------+----------+----------+----------+----------+----------+----------+----------|\n",
      "| Recuperator 1 | -3.85e+06 | 2.35e+05 | 1.64e+01 | \u001b[94m2.50e+01\u001b[0m | \u001b[94m1.00e+01\u001b[0m | \u001b[94m9.77e-01\u001b[0m | \u001b[94m9.98e-01\u001b[0m | 7.58e+03 | 1.42e+04 |\n",
      "| Recuperator 2 | -3.69e+06 | 2.30e+05 | 1.60e+01 | 2.41e+01 | \u001b[94m1.00e+01\u001b[0m | \u001b[94m9.87e-01\u001b[0m | \u001b[94m9.97e-01\u001b[0m | 3.70e+03 | 1.12e+04 |\n",
      "+---------------+-----------+----------+----------+----------+----------+----------+----------+----------+----------+\n",
      "##### RESULTS (Connection) #####\n",
      "+----+-----------+-----------+-----------+-----------+\n",
      "|    |         m |         p |         h |         T |\n",
      "|----+-----------+-----------+-----------+-----------|\n",
      "|  0 | 5.400e+01 | 2.580e+02 | 8.236e+02 | 3.840e+02 |\n",
      "|  1 | 4.540e+01 | \u001b[94m7.500e+01\u001b[0m | 3.977e+02 | \u001b[94m3.500e+01\u001b[0m |\n",
      "|  2 | 4.540e+01 | 2.665e+02 | 4.521e+02 | 1.255e+02 |\n",
      "|  3 | 5.400e+01 | 2.652e+02 | 6.290e+02 | 2.350e+02 |\n",
      "|  4 | \u001b[94m5.400e+01\u001b[0m | \u001b[94m2.580e+02\u001b[0m | 8.236e+02 | \u001b[94m3.840e+02\u001b[0m |\n",
      "|  5 | 5.400e+01 | \u001b[94m7.800e+01\u001b[0m | 7.070e+02 | 2.591e+02 |\n",
      "|  6 | 4.540e+01 | 7.522e+01 | 5.673e+02 | 1.355e+02 |\n",
      "| 10 | 8.597e+00 | 7.522e+01 | 5.673e+02 | 1.355e+02 |\n",
      "| 11 | 8.597e+00 | 2.660e+02 | 6.854e+02 | 2.769e+02 |\n",
      "| 12 | 4.540e+01 | 2.660e+02 | 5.370e+02 | 1.731e+02 |\n",
      "| 13 | 5.400e+01 | 2.660e+02 | 5.606e+02 | 1.881e+02 |\n",
      "| 14 | 5.400e+01 | 7.699e+01 | 6.387e+02 | 1.981e+02 |\n",
      "| 15 | 5.400e+01 | 7.522e+01 | 5.673e+02 | 1.355e+02 |\n",
      "+----+-----------+-----------+-----------+-----------+\n",
      "##### RESULTS (Bus: heat input) #####\n",
      "+--------+-------------------+-------------+--------------+\n",
      "|        |   component value |   bus value |   efficiency |\n",
      "|--------+-------------------+-------------+--------------|\n",
      "| Heater |         1.051e+07 |   1.051e+07 |    1.000e+00 |\n",
      "| total  |         1.051e+07 |   1.051e+07 |  nan         |\n",
      "+--------+-------------------+-------------+--------------+\n",
      "##### RESULTS (Bus: total output power) #####\n",
      "+--------------+-------------------+-------------+--------------+\n",
      "|              |   component value |   bus value |   efficiency |\n",
      "|--------------+-------------------+-------------+--------------|\n",
      "| Turbine      |        -6.295e+06 |  -6.170e+06 |    9.801e-01 |\n",
      "| Compressor 1 |         2.473e+06 |   2.602e+06 |    9.506e-01 |\n",
      "| Compressor 2 |         1.015e+06 |   1.068e+06 |    9.506e-01 |\n",
      "| total        |        -2.807e+06 |  -2.500e+06 |  nan         |\n",
      "+--------------+-------------------+-------------+--------------+\n"
     ]
    }
   ],
   "source": [
    "# solve final state\n",
    "jouleCycle.set_attr(iterinfo=False)\n",
    "jouleCycle.solve(mode='design')\n",
    "\n",
    "# print results to prompt and generate model documentation\n",
    "jouleCycle.print_results()"
   ]
  },
  {
   "cell_type": "code",
   "execution_count": 8,
   "id": "ab5109ab0d9f3ce1",
   "metadata": {},
   "outputs": [
    {
     "name": "stdout",
     "output_type": "stream",
     "text": [
      "Efficiency for a TIT equal to 384°C as in Andasol 2: 23.79 %\n"
     ]
    }
   ],
   "source": [
    "W_net = abs(power.P.val)\n",
    "Q_in = heater.Q.val\n",
    "print(f\"Efficiency for a TIT equal to 384°C as in Andasol 2: {round(W_net/Q_in * 100, 2)} %\")"
   ]
  },
  {
   "cell_type": "markdown",
   "id": "1d67749e-ccf3-4f0c-a78b-e01fa16fba42",
   "metadata": {},
   "source": [
    "During simulation, the cycle was solved to evaluate initial performance. Results indicate lower efficiency than expected based on Andasol 2 data, highlighting the need for adaptations to enhance performance in environments akin to tower CSP plants."
   ]
  },
  {
   "cell_type": "markdown",
   "id": "6a2e9aa8ae7122b6",
   "metadata": {},
   "source": [
    "## Adaptation to the boundaries of a tower power tower CSP plants\n",
    "Drawing from the model and specifications of tower CSP plants, adaptation of the cycle is proposed to optimize efficiency and reliability under specific operating conditions. This includes modifications to operational parameters to maximize overall cycle efficiency. \n",
    "\n",
    "Now the Turbine Inlet Temperature (TIT) is changed from 384°C to 600°C"
   ]
  },
  {
   "cell_type": "code",
   "execution_count": 9,
   "id": "e45eabd73f2f2e2",
   "metadata": {
    "ExecuteTime": {
     "end_time": "2024-07-21T18:10:35.454752Z",
     "start_time": "2024-07-21T18:10:35.214376Z"
    }
   },
   "outputs": [
    {
     "name": "stdout",
     "output_type": "stream",
     "text": [
      "\n",
      "##### RESULTS (Turbine) #####\n",
      "+---------+-----------+----------+----------+\n",
      "|         |         P |    eta_s |       pr |\n",
      "|---------+-----------+----------+----------|\n",
      "| Turbine | -8.87e+06 | \u001b[94m9.00e-01\u001b[0m | 3.02e-01 |\n",
      "+---------+-----------+----------+----------+\n",
      "##### RESULTS (Compressor) #####\n",
      "+--------------+----------+----------+----------+--------+\n",
      "|              |        P |    eta_s |       pr |   igva |\n",
      "|--------------+----------+----------+----------+--------|\n",
      "| Compressor 1 | 2.47e+06 | \u001b[94m8.50e-01\u001b[0m | 3.55e+00 |    nan |\n",
      "| Compressor 2 | 1.02e+06 | \u001b[94m8.50e-01\u001b[0m | 3.54e+00 |    nan |\n",
      "+--------------+----------+----------+----------+--------+\n",
      "##### RESULTS (CycleCloser) #####\n",
      "+--------------+------------------+-------------------+\n",
      "|              |   mass_deviation |   fluid_deviation |\n",
      "|--------------+------------------+-------------------|\n",
      "| Cycle closer |         0.00e+00 |          0.00e+00 |\n",
      "+--------------+------------------+-------------------+\n",
      "##### RESULTS (SimpleHeatExchanger) #####\n",
      "+--------------+-----------+----------+----------+-----+-----+------+---------+------+--------+\n",
      "|              |         Q |       pr |     zeta |   D |   L |   ks |   ks_HW |   kA |   Tamb |\n",
      "|--------------+-----------+----------+----------+-----+-----+------+---------+------+--------|\n",
      "| Heater       |  1.31e+07 | \u001b[94m9.73e-01\u001b[0m | 5.19e+04 | nan | nan |  nan |     nan |  nan |    nan |\n",
      "| Water cooler | -7.70e+06 | 9.97e-01 | 2.04e+03 | nan | nan |  nan |     nan |  nan |    nan |\n",
      "+--------------+-----------+----------+----------+-----+-----+------+---------+------+--------+\n",
      "##### RESULTS (HeatExchanger) #####\n",
      "+---------------+-----------+----------+----------+----------+----------+----------+----------+----------+----------+\n",
      "|               |         Q |       kA |   td_log |    ttd_u |    ttd_l |      pr1 |      pr2 |    zeta1 |    zeta2 |\n",
      "|---------------+-----------+----------+----------+----------+----------+----------+----------+----------+----------|\n",
      "| Recuperator 1 | -3.85e+06 | 2.35e+05 | 1.64e+01 | \u001b[94m2.50e+01\u001b[0m | \u001b[94m1.00e+01\u001b[0m | \u001b[94m9.77e-01\u001b[0m | \u001b[94m9.98e-01\u001b[0m | 7.58e+03 | 1.42e+04 |\n",
      "| Recuperator 2 | -1.57e+07 | 6.66e+05 | 2.36e+01 | 4.61e+01 | \u001b[94m1.00e+01\u001b[0m | \u001b[94m9.87e-01\u001b[0m | \u001b[94m9.97e-01\u001b[0m | 3.02e+03 | 8.78e+03 |\n",
      "+---------------+-----------+----------+----------+----------+----------+----------+----------+----------+----------+\n",
      "##### RESULTS (Connection) #####\n",
      "+----+-----------+-----------+-----------+-----------+\n",
      "|    |         m |         p |         h |         T |\n",
      "|----+-----------+-----------+-----------+-----------|\n",
      "|  0 | 5.400e+01 | 2.580e+02 | 1.094e+03 | 6.000e+02 |\n",
      "|  1 | 4.540e+01 | \u001b[94m7.500e+01\u001b[0m | 3.977e+02 | \u001b[94m3.500e+01\u001b[0m |\n",
      "|  2 | 4.540e+01 | 2.665e+02 | 4.521e+02 | 1.255e+02 |\n",
      "|  3 | 5.400e+01 | 2.652e+02 | 8.521e+02 | 4.074e+02 |\n",
      "|  4 | \u001b[94m5.400e+01\u001b[0m | \u001b[94m2.580e+02\u001b[0m | 1.094e+03 | \u001b[94m6.000e+02\u001b[0m |\n",
      "|  5 | 5.400e+01 | \u001b[94m7.800e+01\u001b[0m | 9.301e+02 | 4.535e+02 |\n",
      "|  6 | 4.540e+01 | 7.522e+01 | 5.673e+02 | 1.355e+02 |\n",
      "| 10 | 8.597e+00 | 7.522e+01 | 5.673e+02 | 1.355e+02 |\n",
      "| 11 | 8.597e+00 | 2.660e+02 | 6.854e+02 | 2.769e+02 |\n",
      "| 12 | 4.540e+01 | 2.660e+02 | 5.370e+02 | 1.731e+02 |\n",
      "| 13 | 5.400e+01 | 2.660e+02 | 5.606e+02 | 1.881e+02 |\n",
      "| 14 | 5.400e+01 | 7.699e+01 | 6.387e+02 | 1.981e+02 |\n",
      "| 15 | 5.400e+01 | 7.522e+01 | 5.673e+02 | 1.355e+02 |\n",
      "+----+-----------+-----------+-----------+-----------+\n",
      "##### RESULTS (Bus: heat input) #####\n",
      "+--------+-------------------+-------------+--------------+\n",
      "|        |   component value |   bus value |   efficiency |\n",
      "|--------+-------------------+-------------+--------------|\n",
      "| Heater |         1.308e+07 |   1.308e+07 |    1.000e+00 |\n",
      "| total  |         1.308e+07 |   1.308e+07 |  nan         |\n",
      "+--------+-------------------+-------------+--------------+\n",
      "##### RESULTS (Bus: total output power) #####\n",
      "+--------------+-------------------+-------------+--------------+\n",
      "|              |   component value |   bus value |   efficiency |\n",
      "|--------------+-------------------+-------------+--------------|\n",
      "| Turbine      |        -8.867e+06 |  -8.690e+06 |    9.801e-01 |\n",
      "| Compressor 1 |         2.473e+06 |   2.602e+06 |    9.506e-01 |\n",
      "| Compressor 2 |         1.015e+06 |   1.068e+06 |    9.506e-01 |\n",
      "| total        |        -5.379e+06 |  -5.021e+06 |  nan         |\n",
      "+--------------+-------------------+-------------+--------------+\n"
     ]
    }
   ],
   "source": [
    "c4.set_attr(T=600, p=258, m=54)\n",
    "\n",
    "jouleCycle.solve(mode='design')\n",
    "\n",
    "# print results to prompt and generate model documentation\n",
    "jouleCycle.print_results()"
   ]
  },
  {
   "cell_type": "code",
   "execution_count": 10,
   "id": "f39bcd53-6221-454a-9155-3191ab1ab593",
   "metadata": {},
   "outputs": [
    {
     "name": "stdout",
     "output_type": "stream",
     "text": [
      "Efficiency in case of a TIT equal to 600°C: 38.38 %\n"
     ]
    }
   ],
   "source": [
    "W_net = abs(power.P.val)\n",
    "Q_in = heater.Q.val\n",
    "print(f\"Efficiency in case of a TIT equal to 600°C: {round(W_net/Q_in * 100, 2)} %\")"
   ]
  },
  {
   "cell_type": "markdown",
   "id": "3b31b866a3657752",
   "metadata": {},
   "source": [
    "## Boundaries variation of TIT"
   ]
  },
  {
   "cell_type": "markdown",
   "id": "d54a5d9eb578e51d",
   "metadata": {},
   "source": [
    "Show how by increasing TIT higher efficiencies can be reached."
   ]
  },
  {
   "cell_type": "code",
   "execution_count": 11,
   "id": "ca1cba1af7d01722",
   "metadata": {},
   "outputs": [
    {
     "data": {
      "image/png": "[encoded data removed]",
      "text/plain": [
       "<Figure size 1600x800 with 2 Axes>"
      ]
     },
     "metadata": {},
     "output_type": "display_data"
    }
   ],
   "source": [
    "import numpy as np\n",
    "import matplotlib.pyplot as plt\n",
    "import matplotlib.style as mplstyle\n",
    "\n",
    "# make text reasonably sized\n",
    "plt.rc('font', **{'size': 18})\n",
    "\n",
    "data = {\n",
    "    'T_livesteam': np.linspace(350, 900, 10)\n",
    "}\n",
    "eta = {\n",
    "    'T_livesteam': []\n",
    "}\n",
    "power_c = {\n",
    "    'T_livesteam': []\n",
    "}\n",
    "\n",
    "for T in data['T_livesteam']:\n",
    "    c4.set_attr(T=T)\n",
    "    jouleCycle.solve('design')\n",
    "    eta['T_livesteam'] += [abs(power.P.val) / heater.Q.val * 100]\n",
    "    power_c['T_livesteam'] += [abs(power.P.val) / 1e6]\n",
    "\n",
    "# reset to base temperature\n",
    "c4.set_attr(T=700)\n",
    "\n",
    "with mplstyle.context('ggplot', after_reset=False):\n",
    "    fig, ax = plt.subplots(2, 1, figsize=(16, 8), sharex='col', sharey='row')\n",
    "    \n",
    "    ax = ax.flatten()\n",
    "    [a.grid() for a in ax]\n",
    "    \n",
    "    i = 0\n",
    "    for key in data:\n",
    "        # Plotting lines\n",
    "        ax[i].plot(data[key], eta[key], marker='o', linestyle='-', color=\"#0065bd\", markersize=8,\n",
    "            linewidth=2)\n",
    "        ax[i].set_facecolor('white')\n",
    "        ax[i].grid(True, color=\"#D3D3D3\")\n",
    "        ax[i + 1].plot(data[key], power_c[key], marker='o', linestyle='-', color=\"#e37222\", markersize=8,\n",
    "            linewidth=2)\n",
    "        ax[i + 1].set_facecolor('white')\n",
    "        ax[i + 1].grid(True, color=\"#D3D3D3\")\n",
    "        i += 1\n",
    "    \n",
    "    ax[0].set_ylabel('Efficiency in %')\n",
    "    ax[1].set_ylabel('Power in MW')\n",
    "    ax[1].set_xlabel('Turbine inlet temperature in °C')\n",
    "    plt.tight_layout()\n",
    "    plt.savefig(r\"picture\\TIT_variation.svg\", format=\"svg\", dpi=300)\n",
    "    plt.show()"
   ]
  },
  {
   "cell_type": "markdown",
   "id": "f2a290b5-6739-4921-b3a2-b116a46b7c8d",
   "metadata": {},
   "source": [
    "## Result discussion and Performance Analysis\n",
    "\n",
    "Analysing the efficiencies simulated in the previous sections, it can be seen that the proposed cycle is not suitable for the boundaries conditions of Andasol 2, as an efficiency of about 23.79\\% was obtained, which is somewhat lower than its Rankine cycle. As the temperature at the turbine inlet is increased, the use of the following cycle is much more interesting, resulting in an efficiency of about 38.38\\% for a TIT equal to 600°C.\n",
    "\n",
    "If we want to compare our efficiency with the simulation carried out by the reference paper, we have to carry out the simulation with a TIT equal to 600°C. The result is an efficiency of 38.38\\% compared to 40.61\\% of the reference. The result obtained is somewhat expected, because the cycle we modelled is not optimised to work at a specific temperature, but was developed in such a way that it would have stable behaviour for different turbine inlet temperatures. This choice leads to a slightly lower efficiency in our case.\n",
    "\n",
    "To optimize the Supercritical CO2 Joule Cycle for tower CSP applications, the following adaptations are proposed:\n",
    "\n",
    "1. **Turbine Inlet Temperature (TIT) Optimization**: Adjusting TIT to match operational conditions typical in tower CSP plants, aiming to maximize thermal efficiency without compromising equipment integrity.\n",
    "\n",
    "2. **Component Configuration**: Evaluating the arrangement and sizing of components such as compressors and heat exchangers to enhance overall cycle efficiency and reliability under varying solar conditions.\n",
    "\n",
    "3. **Integration of Thermal Storage**: Considering the integration of thermal storage systems to mitigate fluctuations in solar irradiance and optimize energy dispatchability.\n",
    "\n",
    "The modeling and analysis of the Supercritical CO2 Joule Cycle offer valuable insights into its potential application in tower CSP plants. By aligning operational parameters with the specific requirements of CSP technology, significant advancements in efficiency and sustainability can be achieved."
   ]
  },
  {
   "cell_type": "markdown",
   "id": "6286c6b9-712c-4841-bfb5-a8e6b73910e5",
   "metadata": {},
   "source": [
    "## Future Directions\n",
    "Future research should focus on:\n",
    "\n",
    "- **Advanced Control Strategies**: Implementing advanced control algorithms to optimize energy conversion and system reliability.\n",
    "- **Experimental Validation**: Conducting experimental validations to corroborate simulation results and refine model accuracy.\n",
    "- **Techno-Economic Analysis**: Performing techno-economic assessments to evaluate the feasibility and cost-effectiveness of implementing adapted Supercritical CO2 Joule Cycles in commercial CSP projects.\n",
    "\n",
    "This report serves as a foundational step towards integrating advanced power cycle technologies into the evolving landscape of renewable energy, contributing to global efforts in combating climate change and advancing sustainable energy solutions."
   ]
  }
 ],
 "metadata": {
  "kernelspec": {
   "display_name": "Python 3 (ipykernel)",
   "language": "python",
   "name": "python3"
  },
  "language_info": {
   "codemirror_mode": {
    "name": "ipython",
    "version": 3
   },
   "file_extension": ".py",
   "mimetype": "text/x-python",
   "name": "python",
   "nbconvert_exporter": "python",
   "pygments_lexer": "ipython3",
   "version": "3.12.2"
  }
 },
 "nbformat": 4,
 "nbformat_minor": 5
}
